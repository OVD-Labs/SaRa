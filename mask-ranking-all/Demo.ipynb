{
 "cells": [
  {
   "cell_type": "code",
   "execution_count": 1,
   "metadata": {},
   "outputs": [
    {
     "name": "stderr",
     "output_type": "stream",
     "text": [
      "c:\\Users\\User\\anaconda3\\envs\\summer_placement\\lib\\site-packages\\tensorflow\\python\\framework\\dtypes.py:493: FutureWarning: Passing (type, 1) or '1type' as a synonym of type is deprecated; in a future version of numpy, it will be understood as (type, (1,)) / '(1,)type'.\n",
      "  _np_qint8 = np.dtype([(\"qint8\", np.int8, 1)])\n",
      "c:\\Users\\User\\anaconda3\\envs\\summer_placement\\lib\\site-packages\\tensorflow\\python\\framework\\dtypes.py:494: FutureWarning: Passing (type, 1) or '1type' as a synonym of type is deprecated; in a future version of numpy, it will be understood as (type, (1,)) / '(1,)type'.\n",
      "  _np_quint8 = np.dtype([(\"quint8\", np.uint8, 1)])\n",
      "c:\\Users\\User\\anaconda3\\envs\\summer_placement\\lib\\site-packages\\tensorflow\\python\\framework\\dtypes.py:495: FutureWarning: Passing (type, 1) or '1type' as a synonym of type is deprecated; in a future version of numpy, it will be understood as (type, (1,)) / '(1,)type'.\n",
      "  _np_qint16 = np.dtype([(\"qint16\", np.int16, 1)])\n",
      "c:\\Users\\User\\anaconda3\\envs\\summer_placement\\lib\\site-packages\\tensorflow\\python\\framework\\dtypes.py:496: FutureWarning: Passing (type, 1) or '1type' as a synonym of type is deprecated; in a future version of numpy, it will be understood as (type, (1,)) / '(1,)type'.\n",
      "  _np_quint16 = np.dtype([(\"quint16\", np.uint16, 1)])\n",
      "c:\\Users\\User\\anaconda3\\envs\\summer_placement\\lib\\site-packages\\tensorflow\\python\\framework\\dtypes.py:497: FutureWarning: Passing (type, 1) or '1type' as a synonym of type is deprecated; in a future version of numpy, it will be understood as (type, (1,)) / '(1,)type'.\n",
      "  _np_qint32 = np.dtype([(\"qint32\", np.int32, 1)])\n",
      "c:\\Users\\User\\anaconda3\\envs\\summer_placement\\lib\\site-packages\\tensorflow\\python\\framework\\dtypes.py:502: FutureWarning: Passing (type, 1) or '1type' as a synonym of type is deprecated; in a future version of numpy, it will be understood as (type, (1,)) / '(1,)type'.\n",
      "  np_resource = np.dtype([(\"resource\", np.ubyte, 1)])\n",
      "Using TensorFlow backend.\n"
     ]
    }
   ],
   "source": [
    "%matplotlib inline \n",
    "import matplotlib.pyplot as plt\n",
    "import skimage.io\n",
    "import os\n",
    "import random\n",
    "import Mask_RCNN_toolchain as mrcnn\n",
    "\n",
    "ROOT_DIR = os.path.abspath(\"./\")\n",
    "IMAGE_DIR = os.path.join(ROOT_DIR, \"images\")"
   ]
  },
  {
   "cell_type": "code",
   "execution_count": 2,
   "metadata": {},
   "outputs": [
    {
     "name": "stdout",
     "output_type": "stream",
     "text": [
      "Processing 1 images\n",
      "image                    shape: (720, 1280, 3)        min:    0.00000  max:  255.00000  uint8\n",
      "molded_images            shape: (1, 1024, 1024, 3)    min: -123.70000  max:  151.10000  float64\n",
      "image_metas              shape: (1, 93)               min:    0.00000  max: 1280.00000  float64\n",
      "anchors                  shape: (1, 261888, 4)        min:   -0.35390  max:    1.29134  float32\n"
     ]
    },
    {
     "name": "stderr",
     "output_type": "stream",
     "text": [
      "c:\\Users\\User\\anaconda3\\envs\\summer_placement\\lib\\site-packages\\mrcnn\\visualize.py:169: UserWarning: Matplotlib is currently using agg, which is a non-GUI backend, so cannot show the figure.\n",
      "  plt.show()\n"
     ]
    }
   ],
   "source": [
    "image, results = mrcnn.get_mask_rcnn_object_detection(2)"
   ]
  },
  {
   "cell_type": "code",
   "execution_count": 3,
   "metadata": {},
   "outputs": [
    {
     "name": "stderr",
     "output_type": "stream",
     "text": [
      "c:\\Users\\User\\anaconda3\\envs\\summer_placement\\lib\\site-packages\\mrcnn\\visualize.py:57: UserWarning: Matplotlib is currently using agg, which is a non-GUI backend, so cannot show the figure.\n",
      "  plt.show()\n"
     ]
    }
   ],
   "source": [
    "masks, all_masks = mrcnn.get_mask_rcnn_masks(image, results)"
   ]
  },
  {
   "cell_type": "code",
   "execution_count": 4,
   "metadata": {},
   "outputs": [],
   "source": [
    "# mrcnn.plot_sara_heatmap(image, mrcnn.SEG_DIM, 'Original')\n",
    "heatmap, sara_list = mrcnn.get_sara_ranking(image, mrcnn.SEG_DIM)"
   ]
  },
  {
   "cell_type": "code",
   "execution_count": 5,
   "metadata": {},
   "outputs": [
    {
     "data": {
      "text/plain": [
       "[(4, 8.3213650544442, 6.679652105662748, 0.6417129487814521, 1, 63, 4),\n",
       " (6, 10.374905285386722, 8.800556107888205, 0.5743491774985175, 1, 62, 4),\n",
       " (13, 11.502944877814162, 9.745086594558963, 0.7578582832551991, 1, 61, 4),\n",
       " (5, 16.911078374690163, 15.286913100239357, 0.6241652744508059, 1, 60, 4),\n",
       " (3, 18.601591200607853, 16.977425926157046, 0.6241652744508059, 1, 59, 4),\n",
       " (22, 19.66699686313542, 17.865926985545798, 0.8010698775896221, 1, 58, 4),\n",
       " (12, 37.56873853547296, 35.78957395581246, 0.7791645796604999, 1, 57, 4),\n",
       " (14, 54.254947541622236, 52.55757570844703, 0.6973718331752027, 1, 56, 4),\n",
       " (10, 54.29925258779131, 52.601880754616104, 0.6973718331752027, 1, 55, 4),\n",
       " (30, 56.77162947728563, 54.90107891398951, 0.8705505632961241, 1, 54, 4),\n",
       " (9, 158.57711390090137, 156.97001645870384, 0.6070974421975235, 1, 53, 4),\n",
       " (38, 182.39739921530588, 180.5023741443779, 0.8950250709279725, 1, 52, 4),\n",
       " (56, 289.776834440937, 288.276834440937, 0.5, 1, 51, 4),\n",
       " (2, 761.2929819703793, 759.7186327928807, 0.5743491774985175, 1, 50, 4),\n",
       " (1, 943.0877262240908, 941.5877262240908, 0.5, 1, 49, 4),\n",
       " (48, 1678.836013437777, 1677.2616642602784, 0.5743491774985175, 1, 48, 4),\n",
       " (11, 1693.6441954521288, 1691.8863371688735, 0.7578582832551991, 1, 47, 3),\n",
       " (23, 7690.484534970491, 7688.7871631373155, 0.6973718331752027, 1, 46, 3),\n",
       " (60, 29522.91931052421, 29521.140145944548, 0.7791645796604999, 1, 45, 3),\n",
       " (7, 127719.47376807725, 127717.97376807725, 0.5, 1, 44, 3),\n",
       " (32, 8137176.8788905805, 8137175.237177632, 0.6417129487814521, 1, 43, 3),\n",
       " (15, 8347134.056294154, 8347132.449196712, 0.6070974421975235, 1, 42, 3),\n",
       " (31, 80732410.24989448, 80732408.49203621, 0.7578582832551991, 1, 41, 3),\n",
       " (39, 480372056.2379607, 480372054.45879614, 0.7791645796604999, 1, 40, 3),\n",
       " (24, 7709220859.576453, 7709220857.952288, 0.6241652744508059, 1, 39, 3),\n",
       " (40, 22207346217.14873, 22207346215.524567, 0.6241652744508059, 1, 38, 3),\n",
       " (21, 561540382341.9055, 561540382340.0349, 0.8705505632961241, 1, 37, 3),\n",
       " (16, 820215854855.017, 820215854853.4426, 0.5743491774985175, 1, 36, 3),\n",
       " (8, 8366978350419.297, 8366978350417.797, 0.5, 1, 35, 3),\n",
       " (0, 37271840147139.1, 37271840147137.69, 0.41179550863378656, 1, 34, 3),\n",
       " (59,\n",
       "  1.8125295509049354e+18,\n",
       "  1.8125295509049354e+18,\n",
       "  0.7578582832551991,\n",
       "  1,\n",
       "  33,\n",
       "  3),\n",
       " (47,\n",
       "  3.0468993687353876e+18,\n",
       "  3.0468993687353876e+18,\n",
       "  0.7578582832551991,\n",
       "  1,\n",
       "  32,\n",
       "  3),\n",
       " (37,\n",
       "  2.7813687587910824e+22,\n",
       "  2.7813687587910824e+22,\n",
       "  0.9726549474122855,\n",
       "  1,\n",
       "  31,\n",
       "  2),\n",
       " (29,\n",
       "  6.629534496042577e+24,\n",
       "  6.629534496042577e+24,\n",
       "  0.9460576467255959,\n",
       "  1,\n",
       "  30,\n",
       "  2),\n",
       " (52, 6.8218612136549e+26, 6.8218612136549e+26, 0.8950250709279725, 1, 29, 2),\n",
       " (55,\n",
       "  5.332358675080575e+29,\n",
       "  5.332358675080575e+29,\n",
       "  0.6973718331752027,\n",
       "  1,\n",
       "  28,\n",
       "  2),\n",
       " (63,\n",
       "  1.3746030028854115e+30,\n",
       "  1.3746030028854115e+30,\n",
       "  0.6070974421975235,\n",
       "  1,\n",
       "  27,\n",
       "  2),\n",
       " (44,\n",
       "  1.3704598789151535e+31,\n",
       "  1.3704598789151535e+31,\n",
       "  0.9726549474122855,\n",
       "  1,\n",
       "  26,\n",
       "  2),\n",
       " (36, 8.084565432468623e+33, 8.084565432468623e+33, 1.0, 1, 25, 2),\n",
       " (28,\n",
       "  9.598809048639858e+33,\n",
       "  9.598809048639858e+33,\n",
       "  0.9726549474122855,\n",
       "  1,\n",
       "  24,\n",
       "  2),\n",
       " (50,\n",
       "  1.6907820223196734e+34,\n",
       "  1.6907820223196734e+34,\n",
       "  0.8010698775896221,\n",
       "  1,\n",
       "  23,\n",
       "  2),\n",
       " (46,\n",
       "  9.107059023560844e+36,\n",
       "  9.107059023560844e+36,\n",
       "  0.8705505632961241,\n",
       "  1,\n",
       "  22,\n",
       "  2),\n",
       " (51,\n",
       "  9.253887076680575e+38,\n",
       "  9.253887076680575e+38,\n",
       "  0.8705505632961241,\n",
       "  1,\n",
       "  21,\n",
       "  2),\n",
       " (54,\n",
       "  1.0355692558099939e+39,\n",
       "  1.0355692558099939e+39,\n",
       "  0.8010698775896221,\n",
       "  1,\n",
       "  20,\n",
       "  2),\n",
       " (20,\n",
       "  6.411809740816509e+42,\n",
       "  6.411809740816509e+42,\n",
       "  0.8950250709279725,\n",
       "  1,\n",
       "  19,\n",
       "  2),\n",
       " (33,\n",
       "  6.561211308218157e+42,\n",
       "  6.561211308218157e+42,\n",
       "  0.7791645796604999,\n",
       "  1,\n",
       "  18,\n",
       "  2),\n",
       " (41,\n",
       "  2.022317845115948e+43,\n",
       "  2.022317845115948e+43,\n",
       "  0.7578582832551991,\n",
       "  1,\n",
       "  17,\n",
       "  2),\n",
       " (62,\n",
       "  5.831336220439769e+44,\n",
       "  5.831336220439769e+44,\n",
       "  0.6973718331752027,\n",
       "  1,\n",
       "  16,\n",
       "  2),\n",
       " (49,\n",
       "  6.4439736157789314e+44,\n",
       "  6.4439736157789314e+44,\n",
       "  0.6973718331752027,\n",
       "  1,\n",
       "  15,\n",
       "  1),\n",
       " (35,\n",
       "  2.5685856769096914e+45,\n",
       "  2.5685856769096914e+45,\n",
       "  0.9726549474122855,\n",
       "  1,\n",
       "  14,\n",
       "  1),\n",
       " (58,\n",
       "  7.612702121326818e+46,\n",
       "  7.612702121326818e+46,\n",
       "  0.6973718331752027,\n",
       "  1,\n",
       "  13,\n",
       "  1),\n",
       " (57,\n",
       "  1.8636101407165955e+47,\n",
       "  1.8636101407165955e+47,\n",
       "  0.6070974421975235,\n",
       "  1,\n",
       "  12,\n",
       "  1),\n",
       " (17,\n",
       "  2.3232923082801585e+47,\n",
       "  2.3232923082801585e+47,\n",
       "  0.6973718331752027,\n",
       "  1,\n",
       "  11,\n",
       "  1),\n",
       " (18,\n",
       "  2.4063214759104463e+47,\n",
       "  2.4063214759104463e+47,\n",
       "  0.8010698775896221,\n",
       "  1,\n",
       "  10,\n",
       "  1),\n",
       " (43,\n",
       "  1.7879732814354903e+48,\n",
       "  1.7879732814354903e+48,\n",
       "  0.9460576467255959,\n",
       "  1,\n",
       "  9,\n",
       "  1),\n",
       " (61,\n",
       "  2.9416331896727764e+48,\n",
       "  2.9416331896727764e+48,\n",
       "  0.7578582832551991,\n",
       "  1,\n",
       "  8,\n",
       "  1),\n",
       " (19,\n",
       "  6.633347086241778e+48,\n",
       "  6.633347086241778e+48,\n",
       "  0.8705505632961241,\n",
       "  1,\n",
       "  7,\n",
       "  1),\n",
       " (26,\n",
       "  3.427702911068065e+50,\n",
       "  3.427702911068065e+50,\n",
       "  0.8705505632961241,\n",
       "  1,\n",
       "  6,\n",
       "  1),\n",
       " (25,\n",
       "  8.090983358943665e+52,\n",
       "  8.090983358943665e+52,\n",
       "  0.7578582832551991,\n",
       "  1,\n",
       "  5,\n",
       "  1),\n",
       " (42,\n",
       "  5.538046355277062e+54,\n",
       "  5.538046355277062e+54,\n",
       "  0.8705505632961241,\n",
       "  1,\n",
       "  4,\n",
       "  1),\n",
       " (27,\n",
       "  6.308527597585806e+55,\n",
       "  6.308527597585806e+55,\n",
       "  0.9460576467255959,\n",
       "  1,\n",
       "  3,\n",
       "  1),\n",
       " (34, 8.6910973080281e+57, 8.6910973080281e+57, 0.8950250709279725, 1, 2, 1),\n",
       " (45,\n",
       "  2.617096544323547e+60,\n",
       "  2.617096544323547e+60,\n",
       "  0.9460576467255959,\n",
       "  1,\n",
       "  1,\n",
       "  1),\n",
       " (53,\n",
       "  8.233720849585481e+63,\n",
       "  8.233720849585481e+63,\n",
       "  0.8705505632961241,\n",
       "  1,\n",
       "  0,\n",
       "  1)]"
      ]
     },
     "execution_count": 5,
     "metadata": {},
     "output_type": "execute_result"
    }
   ],
   "source": [
    "sara_list"
   ]
  },
  {
   "cell_type": "code",
   "execution_count": 6,
   "metadata": {},
   "outputs": [
    {
     "data": {
      "image/png": "[encoded data removed]",
      "text/plain": [
       "<Figure size 432x288 with 1 Axes>"
      ]
     },
     "metadata": {
      "needs_background": "light"
     },
     "output_type": "display_data"
    }
   ],
   "source": [
    "%matplotlib inline\n",
    "import matplotlib.pyplot as plt\n",
    "plt.imshow(heatmap)\n",
    "plt.axis('off')\n",
    "plt.show()"
   ]
  },
  {
   "cell_type": "code",
   "execution_count": 7,
   "metadata": {},
   "outputs": [],
   "source": [
    "mask_segments, mask_segments_min = mrcnn.get_mask_segments(image, sara_list, masks)"
   ]
  },
  {
   "cell_type": "code",
   "execution_count": 8,
   "metadata": {},
   "outputs": [
    {
     "data": {
      "image/png": "[encoded data removed]",
      "text/plain": [
       "<Figure size 576x576 with 1 Axes>"
      ]
     },
     "metadata": {
      "needs_background": "light"
     },
     "output_type": "display_data"
    }
   ],
   "source": [
    "combined_mask_image, rank_colors_dict = mrcnn.get_colored_masks(image, masks, mask_segments_min)"
   ]
  },
  {
   "cell_type": "code",
   "execution_count": 10,
   "metadata": {},
   "outputs": [],
   "source": [
    "# from SaRa_Visual_Tools import plotly as sara_plotly\n",
    "                                    \n",
    "# sara_plotly.create_visual_plot_dashboard(image, mrcnn.SEG_DIM, masks, mask_segments_min, heatmap)"
   ]
  },
  {
   "cell_type": "code",
   "execution_count": 11,
   "metadata": {},
   "outputs": [],
   "source": [
    "# from SaRa_Visual_Tools import pygame as sara_pygame\n",
    "\n",
    "# mask_info, mask_segments_min2 = mrcnn.get_mask_segments_info(image, sara_list, masks)\n",
    "# sara_pygame.create_interactive_plot(image, mask_segments_min2, heatmap)"
   ]
  },
  {
   "cell_type": "code",
   "execution_count": 12,
   "metadata": {},
   "outputs": [
    {
     "data": {
      "text/plain": [
       "[(4, 8.3213650544442, 6.679652105662748, 0.6417129487814521, 1, 63, 4),\n",
       " (6, 10.374905285386722, 8.800556107888205, 0.5743491774985175, 1, 62, 4),\n",
       " (13, 11.502944877814162, 9.745086594558963, 0.7578582832551991, 1, 61, 4),\n",
       " (5, 16.911078374690163, 15.286913100239357, 0.6241652744508059, 1, 60, 4),\n",
       " (3, 18.601591200607853, 16.977425926157046, 0.6241652744508059, 1, 59, 4),\n",
       " (22, 19.66699686313542, 17.865926985545798, 0.8010698775896221, 1, 58, 4),\n",
       " (12, 37.56873853547296, 35.78957395581246, 0.7791645796604999, 1, 57, 4),\n",
       " (14, 54.254947541622236, 52.55757570844703, 0.6973718331752027, 1, 56, 4),\n",
       " (10, 54.29925258779131, 52.601880754616104, 0.6973718331752027, 1, 55, 4),\n",
       " (30, 56.77162947728563, 54.90107891398951, 0.8705505632961241, 1, 54, 4),\n",
       " (9, 158.57711390090137, 156.97001645870384, 0.6070974421975235, 1, 53, 4),\n",
       " (38, 182.39739921530588, 180.5023741443779, 0.8950250709279725, 1, 52, 4),\n",
       " (56, 289.776834440937, 288.276834440937, 0.5, 1, 51, 4),\n",
       " (2, 761.2929819703793, 759.7186327928807, 0.5743491774985175, 1, 50, 4),\n",
       " (1, 943.0877262240908, 941.5877262240908, 0.5, 1, 49, 4),\n",
       " (48, 1678.836013437777, 1677.2616642602784, 0.5743491774985175, 1, 48, 4),\n",
       " (11, 1693.6441954521288, 1691.8863371688735, 0.7578582832551991, 1, 47, 3),\n",
       " (23, 7690.484534970491, 7688.7871631373155, 0.6973718331752027, 1, 46, 3),\n",
       " (60, 29522.91931052421, 29521.140145944548, 0.7791645796604999, 1, 45, 3),\n",
       " (7, 127719.47376807725, 127717.97376807725, 0.5, 1, 44, 3),\n",
       " (32, 8137176.8788905805, 8137175.237177632, 0.6417129487814521, 1, 43, 3),\n",
       " (15, 8347134.056294154, 8347132.449196712, 0.6070974421975235, 1, 42, 3),\n",
       " (31, 80732410.24989448, 80732408.49203621, 0.7578582832551991, 1, 41, 3),\n",
       " (39, 480372056.2379607, 480372054.45879614, 0.7791645796604999, 1, 40, 3),\n",
       " (24, 7709220859.576453, 7709220857.952288, 0.6241652744508059, 1, 39, 3),\n",
       " (40, 22207346217.14873, 22207346215.524567, 0.6241652744508059, 1, 38, 3),\n",
       " (21, 561540382341.9055, 561540382340.0349, 0.8705505632961241, 1, 37, 3),\n",
       " (16, 820215854855.017, 820215854853.4426, 0.5743491774985175, 1, 36, 3),\n",
       " (8, 8366978350419.297, 8366978350417.797, 0.5, 1, 35, 3),\n",
       " (0, 37271840147139.1, 37271840147137.69, 0.41179550863378656, 1, 34, 3),\n",
       " (59,\n",
       "  1.8125295509049354e+18,\n",
       "  1.8125295509049354e+18,\n",
       "  0.7578582832551991,\n",
       "  1,\n",
       "  33,\n",
       "  3),\n",
       " (47,\n",
       "  3.0468993687353876e+18,\n",
       "  3.0468993687353876e+18,\n",
       "  0.7578582832551991,\n",
       "  1,\n",
       "  32,\n",
       "  3),\n",
       " (37,\n",
       "  2.7813687587910824e+22,\n",
       "  2.7813687587910824e+22,\n",
       "  0.9726549474122855,\n",
       "  1,\n",
       "  31,\n",
       "  2),\n",
       " (29,\n",
       "  6.629534496042577e+24,\n",
       "  6.629534496042577e+24,\n",
       "  0.9460576467255959,\n",
       "  1,\n",
       "  30,\n",
       "  2),\n",
       " (52, 6.8218612136549e+26, 6.8218612136549e+26, 0.8950250709279725, 1, 29, 2),\n",
       " (55,\n",
       "  5.332358675080575e+29,\n",
       "  5.332358675080575e+29,\n",
       "  0.6973718331752027,\n",
       "  1,\n",
       "  28,\n",
       "  2),\n",
       " (63,\n",
       "  1.3746030028854115e+30,\n",
       "  1.3746030028854115e+30,\n",
       "  0.6070974421975235,\n",
       "  1,\n",
       "  27,\n",
       "  2),\n",
       " (44,\n",
       "  1.3704598789151535e+31,\n",
       "  1.3704598789151535e+31,\n",
       "  0.9726549474122855,\n",
       "  1,\n",
       "  26,\n",
       "  2),\n",
       " (36, 8.084565432468623e+33, 8.084565432468623e+33, 1.0, 1, 25, 2),\n",
       " (28,\n",
       "  9.598809048639858e+33,\n",
       "  9.598809048639858e+33,\n",
       "  0.9726549474122855,\n",
       "  1,\n",
       "  24,\n",
       "  2),\n",
       " (50,\n",
       "  1.6907820223196734e+34,\n",
       "  1.6907820223196734e+34,\n",
       "  0.8010698775896221,\n",
       "  1,\n",
       "  23,\n",
       "  2),\n",
       " (46,\n",
       "  9.107059023560844e+36,\n",
       "  9.107059023560844e+36,\n",
       "  0.8705505632961241,\n",
       "  1,\n",
       "  22,\n",
       "  2),\n",
       " (51,\n",
       "  9.253887076680575e+38,\n",
       "  9.253887076680575e+38,\n",
       "  0.8705505632961241,\n",
       "  1,\n",
       "  21,\n",
       "  2),\n",
       " (54,\n",
       "  1.0355692558099939e+39,\n",
       "  1.0355692558099939e+39,\n",
       "  0.8010698775896221,\n",
       "  1,\n",
       "  20,\n",
       "  2),\n",
       " (20,\n",
       "  6.411809740816509e+42,\n",
       "  6.411809740816509e+42,\n",
       "  0.8950250709279725,\n",
       "  1,\n",
       "  19,\n",
       "  2),\n",
       " (33,\n",
       "  6.561211308218157e+42,\n",
       "  6.561211308218157e+42,\n",
       "  0.7791645796604999,\n",
       "  1,\n",
       "  18,\n",
       "  2),\n",
       " (41,\n",
       "  2.022317845115948e+43,\n",
       "  2.022317845115948e+43,\n",
       "  0.7578582832551991,\n",
       "  1,\n",
       "  17,\n",
       "  2),\n",
       " (62,\n",
       "  5.831336220439769e+44,\n",
       "  5.831336220439769e+44,\n",
       "  0.6973718331752027,\n",
       "  1,\n",
       "  16,\n",
       "  2),\n",
       " (49,\n",
       "  6.4439736157789314e+44,\n",
       "  6.4439736157789314e+44,\n",
       "  0.6973718331752027,\n",
       "  1,\n",
       "  15,\n",
       "  1),\n",
       " (35,\n",
       "  2.5685856769096914e+45,\n",
       "  2.5685856769096914e+45,\n",
       "  0.9726549474122855,\n",
       "  1,\n",
       "  14,\n",
       "  1),\n",
       " (58,\n",
       "  7.612702121326818e+46,\n",
       "  7.612702121326818e+46,\n",
       "  0.6973718331752027,\n",
       "  1,\n",
       "  13,\n",
       "  1),\n",
       " (57,\n",
       "  1.8636101407165955e+47,\n",
       "  1.8636101407165955e+47,\n",
       "  0.6070974421975235,\n",
       "  1,\n",
       "  12,\n",
       "  1),\n",
       " (17,\n",
       "  2.3232923082801585e+47,\n",
       "  2.3232923082801585e+47,\n",
       "  0.6973718331752027,\n",
       "  1,\n",
       "  11,\n",
       "  1),\n",
       " (18,\n",
       "  2.4063214759104463e+47,\n",
       "  2.4063214759104463e+47,\n",
       "  0.8010698775896221,\n",
       "  1,\n",
       "  10,\n",
       "  1),\n",
       " (43,\n",
       "  1.7879732814354903e+48,\n",
       "  1.7879732814354903e+48,\n",
       "  0.9460576467255959,\n",
       "  1,\n",
       "  9,\n",
       "  1),\n",
       " (61,\n",
       "  2.9416331896727764e+48,\n",
       "  2.9416331896727764e+48,\n",
       "  0.7578582832551991,\n",
       "  1,\n",
       "  8,\n",
       "  1),\n",
       " (19,\n",
       "  6.633347086241778e+48,\n",
       "  6.633347086241778e+48,\n",
       "  0.8705505632961241,\n",
       "  1,\n",
       "  7,\n",
       "  1),\n",
       " (26,\n",
       "  3.427702911068065e+50,\n",
       "  3.427702911068065e+50,\n",
       "  0.8705505632961241,\n",
       "  1,\n",
       "  6,\n",
       "  1),\n",
       " (25,\n",
       "  8.090983358943665e+52,\n",
       "  8.090983358943665e+52,\n",
       "  0.7578582832551991,\n",
       "  1,\n",
       "  5,\n",
       "  1),\n",
       " (42,\n",
       "  5.538046355277062e+54,\n",
       "  5.538046355277062e+54,\n",
       "  0.8705505632961241,\n",
       "  1,\n",
       "  4,\n",
       "  1),\n",
       " (27,\n",
       "  6.308527597585806e+55,\n",
       "  6.308527597585806e+55,\n",
       "  0.9460576467255959,\n",
       "  1,\n",
       "  3,\n",
       "  1),\n",
       " (34, 8.6910973080281e+57, 8.6910973080281e+57, 0.8950250709279725, 1, 2, 1),\n",
       " (45,\n",
       "  2.617096544323547e+60,\n",
       "  2.617096544323547e+60,\n",
       "  0.9460576467255959,\n",
       "  1,\n",
       "  1,\n",
       "  1),\n",
       " (53,\n",
       "  8.233720849585481e+63,\n",
       "  8.233720849585481e+63,\n",
       "  0.8705505632961241,\n",
       "  1,\n",
       "  0,\n",
       "  1)]"
      ]
     },
     "execution_count": 12,
     "metadata": {},
     "output_type": "execute_result"
    }
   ],
   "source": [
    "sara_list"
   ]
  },
  {
   "cell_type": "code",
   "execution_count": 21,
   "metadata": {},
   "outputs": [
    {
     "data": {
      "application/vnd.plotly.v1+json": {
       "config": {
        "plotlyServerURL": "https://plot.ly"
       },
       "data": [
        {
         "hovertemplate": "<b>%{hovertext}</b><br><br>Rank=%{x}<br>Entropy=%{y}<br>Quartile=%{marker.size}<br>Index=%{marker.color}<extra></extra>",
         "hovertext": [
          0,
          1,
          2,
          3,
          4,
          5,
          6,
          7,
          8,
          9,
          10,
          11,
          12,
          13,
          14,
          15,
          16,
          17,
          18,
          19,
          20,
          21,
          22,
          23,
          24,
          25,
          26,
          27,
          28,
          29,
          30,
          31,
          32,
          33,
          34,
          35,
          36,
          37,
          38,
          39,
          40,
          41,
          42,
          43,
          44,
          45,
          46,
          47,
          48,
          49,
          50,
          51,
          52,
          53,
          54,
          55,
          56,
          57,
          58,
          59,
          60,
          61,
          62,
          63
         ],
         "legendgroup": "",
         "marker": {
          "color": [
           63,
           62,
           61,
           60,
           59,
           58,
           57,
           56,
           55,
           54,
           53,
           52,
           51,
           50,
           49,
           48,
           47,
           46,
           45,
           44,
           43,
           42,
           41,
           40,
           39,
           38,
           37,
           36,
           35,
           34,
           33,
           32,
           31,
           30,
           29,
           28,
           27,
           26,
           25,
           24,
           23,
           22,
           21,
           20,
           19,
           18,
           17,
           16,
           15,
           14,
           13,
           12,
           11,
           10,
           9,
           8,
           7,
           6,
           5,
           4,
           3,
           2,
           1,
           0
          ],
          "coloraxis": "coloraxis",
          "size": [
           4,
           4,
           4,
           4,
           4,
           4,
           4,
           4,
           4,
           4,
           4,
           4,
           4,
           4,
           4,
           4,
           3,
           3,
           3,
           3,
           3,
           3,
           3,
           3,
           3,
           3,
           3,
           3,
           3,
           3,
           3,
           3,
           2,
           2,
           2,
           2,
           2,
           2,
           2,
           2,
           2,
           2,
           2,
           2,
           2,
           2,
           2,
           2,
           1,
           1,
           1,
           1,
           1,
           1,
           1,
           1,
           1,
           1,
           1,
           1,
           1,
           1,
           1,
           1
          ],
          "sizemode": "area",
          "sizeref": 0.01,
          "symbol": "circle"
         },
         "mode": "markers",
         "name": "",
         "orientation": "v",
         "showlegend": false,
         "type": "scatter",
         "x": [
          4,
          6,
          13,
          5,
          3,
          22,
          12,
          14,
          10,
          30,
          9,
          38,
          56,
          2,
          1,
          48,
          11,
          23,
          60,
          7,
          32,
          15,
          31,
          39,
          24,
          40,
          21,
          16,
          8,
          0,
          59,
          47,
          37,
          29,
          52,
          55,
          63,
          44,
          36,
          28,
          50,
          46,
          51,
          54,
          20,
          33,
          41,
          62,
          49,
          35,
          58,
          57,
          17,
          18,
          43,
          61,
          19,
          26,
          25,
          42,
          27,
          34,
          45,
          53
         ],
         "xaxis": "x",
         "y": [
          6.679652105662748,
          8.800556107888205,
          9.745086594558963,
          15.286913100239357,
          16.977425926157046,
          17.865926985545798,
          35.78957395581246,
          52.55757570844703,
          52.601880754616104,
          54.90107891398951,
          156.97001645870384,
          180.5023741443779,
          288.276834440937,
          759.7186327928807,
          941.5877262240908,
          1677.2616642602784,
          1691.8863371688735,
          7688.7871631373155,
          29521.140145944548,
          127717.97376807725,
          8137175.237177632,
          8347132.449196712,
          80732408.49203621,
          480372054.45879614,
          7709220857.952288,
          22207346215.524567,
          561540382340.0349,
          820215854853.4426,
          8366978350417.797,
          37271840147137.69,
          1812529550904935400,
          3046899368735387600,
          2.7813687587910824e+22,
          6.629534496042577e+24,
          6.8218612136549e+26,
          5.332358675080575e+29,
          1.3746030028854115e+30,
          1.3704598789151535e+31,
          8.084565432468623e+33,
          9.598809048639858e+33,
          1.6907820223196734e+34,
          9.107059023560844e+36,
          9.253887076680575e+38,
          1.0355692558099939e+39,
          6.411809740816509e+42,
          6.561211308218157e+42,
          2.022317845115948e+43,
          5.831336220439769e+44,
          6.4439736157789314e+44,
          2.5685856769096914e+45,
          7.612702121326818e+46,
          1.8636101407165955e+47,
          2.3232923082801585e+47,
          2.4063214759104463e+47,
          1.7879732814354903e+48,
          2.9416331896727764e+48,
          6.633347086241778e+48,
          3.427702911068065e+50,
          8.090983358943665e+52,
          5.538046355277062e+54,
          6.308527597585806e+55,
          8.6910973080281e+57,
          2.617096544323547e+60,
          8.233720849585481e+63
         ],
         "yaxis": "y"
        }
       ],
       "layout": {
        "coloraxis": {
         "colorbar": {
          "title": {
           "text": "Index"
          }
         },
         "colorscale": [
          [
           0,
           "#0d0887"
          ],
          [
           0.1111111111111111,
           "#46039f"
          ],
          [
           0.2222222222222222,
           "#7201a8"
          ],
          [
           0.3333333333333333,
           "#9c179e"
          ],
          [
           0.4444444444444444,
           "#bd3786"
          ],
          [
           0.5555555555555556,
           "#d8576b"
          ],
          [
           0.6666666666666666,
           "#ed7953"
          ],
          [
           0.7777777777777778,
           "#fb9f3a"
          ],
          [
           0.8888888888888888,
           "#fdca26"
          ],
          [
           1,
           "#f0f921"
          ]
         ]
        },
        "legend": {
         "itemsizing": "constant",
         "tracegroupgap": 0
        },
        "template": {
         "data": {
          "bar": [
           {
            "error_x": {
             "color": "#2a3f5f"
            },
            "error_y": {
             "color": "#2a3f5f"
            },
            "marker": {
             "line": {
              "color": "#E5ECF6",
              "width": 0.5
             },
             "pattern": {
              "fillmode": "overlay",
              "size": 10,
              "solidity": 0.2
             }
            },
            "type": "bar"
           }
          ],
          "barpolar": [
           {
            "marker": {
             "line": {
              "color": "#E5ECF6",
              "width": 0.5
             },
             "pattern": {
              "fillmode": "overlay",
              "size": 10,
              "solidity": 0.2
             }
            },
            "type": "barpolar"
           }
          ],
          "carpet": [
           {
            "aaxis": {
             "endlinecolor": "#2a3f5f",
             "gridcolor": "white",
             "linecolor": "white",
             "minorgridcolor": "white",
             "startlinecolor": "#2a3f5f"
            },
            "baxis": {
             "endlinecolor": "#2a3f5f",
             "gridcolor": "white",
             "linecolor": "white",
             "minorgridcolor": "white",
             "startlinecolor": "#2a3f5f"
            },
            "type": "carpet"
           }
          ],
          "choropleth": [
           {
            "colorbar": {
             "outlinewidth": 0,
             "ticks": ""
            },
            "type": "choropleth"
           }
          ],
          "contour": [
           {
            "colorbar": {
             "outlinewidth": 0,
             "ticks": ""
            },
            "colorscale": [
             [
              0,
              "#0d0887"
             ],
             [
              0.1111111111111111,
              "#46039f"
             ],
             [
              0.2222222222222222,
              "#7201a8"
             ],
             [
              0.3333333333333333,
              "#9c179e"
             ],
             [
              0.4444444444444444,
              "#bd3786"
             ],
             [
              0.5555555555555556,
              "#d8576b"
             ],
             [
              0.6666666666666666,
              "#ed7953"
             ],
             [
              0.7777777777777778,
              "#fb9f3a"
             ],
             [
              0.8888888888888888,
              "#fdca26"
             ],
             [
              1,
              "#f0f921"
             ]
            ],
            "type": "contour"
           }
          ],
          "contourcarpet": [
           {
            "colorbar": {
             "outlinewidth": 0,
             "ticks": ""
            },
            "type": "contourcarpet"
           }
          ],
          "heatmap": [
           {
            "colorbar": {
             "outlinewidth": 0,
             "ticks": ""
            },
            "colorscale": [
             [
              0,
              "#0d0887"
             ],
             [
              0.1111111111111111,
              "#46039f"
             ],
             [
              0.2222222222222222,
              "#7201a8"
             ],
             [
              0.3333333333333333,
              "#9c179e"
             ],
             [
              0.4444444444444444,
              "#bd3786"
             ],
             [
              0.5555555555555556,
              "#d8576b"
             ],
             [
              0.6666666666666666,
              "#ed7953"
             ],
             [
              0.7777777777777778,
              "#fb9f3a"
             ],
             [
              0.8888888888888888,
              "#fdca26"
             ],
             [
              1,
              "#f0f921"
             ]
            ],
            "type": "heatmap"
           }
          ],
          "heatmapgl": [
           {
            "colorbar": {
             "outlinewidth": 0,
             "ticks": ""
            },
            "colorscale": [
             [
              0,
              "#0d0887"
             ],
             [
              0.1111111111111111,
              "#46039f"
             ],
             [
              0.2222222222222222,
              "#7201a8"
             ],
             [
              0.3333333333333333,
              "#9c179e"
             ],
             [
              0.4444444444444444,
              "#bd3786"
             ],
             [
              0.5555555555555556,
              "#d8576b"
             ],
             [
              0.6666666666666666,
              "#ed7953"
             ],
             [
              0.7777777777777778,
              "#fb9f3a"
             ],
             [
              0.8888888888888888,
              "#fdca26"
             ],
             [
              1,
              "#f0f921"
             ]
            ],
            "type": "heatmapgl"
           }
          ],
          "histogram": [
           {
            "marker": {
             "pattern": {
              "fillmode": "overlay",
              "size": 10,
              "solidity": 0.2
             }
            },
            "type": "histogram"
           }
          ],
          "histogram2d": [
           {
            "colorbar": {
             "outlinewidth": 0,
             "ticks": ""
            },
            "colorscale": [
             [
              0,
              "#0d0887"
             ],
             [
              0.1111111111111111,
              "#46039f"
             ],
             [
              0.2222222222222222,
              "#7201a8"
             ],
             [
              0.3333333333333333,
              "#9c179e"
             ],
             [
              0.4444444444444444,
              "#bd3786"
             ],
             [
              0.5555555555555556,
              "#d8576b"
             ],
             [
              0.6666666666666666,
              "#ed7953"
             ],
             [
              0.7777777777777778,
              "#fb9f3a"
             ],
             [
              0.8888888888888888,
              "#fdca26"
             ],
             [
              1,
              "#f0f921"
             ]
            ],
            "type": "histogram2d"
           }
          ],
          "histogram2dcontour": [
           {
            "colorbar": {
             "outlinewidth": 0,
             "ticks": ""
            },
            "colorscale": [
             [
              0,
              "#0d0887"
             ],
             [
              0.1111111111111111,
              "#46039f"
             ],
             [
              0.2222222222222222,
              "#7201a8"
             ],
             [
              0.3333333333333333,
              "#9c179e"
             ],
             [
              0.4444444444444444,
              "#bd3786"
             ],
             [
              0.5555555555555556,
              "#d8576b"
             ],
             [
              0.6666666666666666,
              "#ed7953"
             ],
             [
              0.7777777777777778,
              "#fb9f3a"
             ],
             [
              0.8888888888888888,
              "#fdca26"
             ],
             [
              1,
              "#f0f921"
             ]
            ],
            "type": "histogram2dcontour"
           }
          ],
          "mesh3d": [
           {
            "colorbar": {
             "outlinewidth": 0,
             "ticks": ""
            },
            "type": "mesh3d"
           }
          ],
          "parcoords": [
           {
            "line": {
             "colorbar": {
              "outlinewidth": 0,
              "ticks": ""
             }
            },
            "type": "parcoords"
           }
          ],
          "pie": [
           {
            "automargin": true,
            "type": "pie"
           }
          ],
          "scatter": [
           {
            "fillpattern": {
             "fillmode": "overlay",
             "size": 10,
             "solidity": 0.2
            },
            "type": "scatter"
           }
          ],
          "scatter3d": [
           {
            "line": {
             "colorbar": {
              "outlinewidth": 0,
              "ticks": ""
             }
            },
            "marker": {
             "colorbar": {
              "outlinewidth": 0,
              "ticks": ""
             }
            },
            "type": "scatter3d"
           }
          ],
          "scattercarpet": [
           {
            "marker": {
             "colorbar": {
              "outlinewidth": 0,
              "ticks": ""
             }
            },
            "type": "scattercarpet"
           }
          ],
          "scattergeo": [
           {
            "marker": {
             "colorbar": {
              "outlinewidth": 0,
              "ticks": ""
             }
            },
            "type": "scattergeo"
           }
          ],
          "scattergl": [
           {
            "marker": {
             "colorbar": {
              "outlinewidth": 0,
              "ticks": ""
             }
            },
            "type": "scattergl"
           }
          ],
          "scattermapbox": [
           {
            "marker": {
             "colorbar": {
              "outlinewidth": 0,
              "ticks": ""
             }
            },
            "type": "scattermapbox"
           }
          ],
          "scatterpolar": [
           {
            "marker": {
             "colorbar": {
              "outlinewidth": 0,
              "ticks": ""
             }
            },
            "type": "scatterpolar"
           }
          ],
          "scatterpolargl": [
           {
            "marker": {
             "colorbar": {
              "outlinewidth": 0,
              "ticks": ""
             }
            },
            "type": "scatterpolargl"
           }
          ],
          "scatterternary": [
           {
            "marker": {
             "colorbar": {
              "outlinewidth": 0,
              "ticks": ""
             }
            },
            "type": "scatterternary"
           }
          ],
          "surface": [
           {
            "colorbar": {
             "outlinewidth": 0,
             "ticks": ""
            },
            "colorscale": [
             [
              0,
              "#0d0887"
             ],
             [
              0.1111111111111111,
              "#46039f"
             ],
             [
              0.2222222222222222,
              "#7201a8"
             ],
             [
              0.3333333333333333,
              "#9c179e"
             ],
             [
              0.4444444444444444,
              "#bd3786"
             ],
             [
              0.5555555555555556,
              "#d8576b"
             ],
             [
              0.6666666666666666,
              "#ed7953"
             ],
             [
              0.7777777777777778,
              "#fb9f3a"
             ],
             [
              0.8888888888888888,
              "#fdca26"
             ],
             [
              1,
              "#f0f921"
             ]
            ],
            "type": "surface"
           }
          ],
          "table": [
           {
            "cells": {
             "fill": {
              "color": "#EBF0F8"
             },
             "line": {
              "color": "white"
             }
            },
            "header": {
             "fill": {
              "color": "#C8D4E3"
             },
             "line": {
              "color": "white"
             }
            },
            "type": "table"
           }
          ]
         },
         "layout": {
          "annotationdefaults": {
           "arrowcolor": "#2a3f5f",
           "arrowhead": 0,
           "arrowwidth": 1
          },
          "autotypenumbers": "strict",
          "coloraxis": {
           "colorbar": {
            "outlinewidth": 0,
            "ticks": ""
           }
          },
          "colorscale": {
           "diverging": [
            [
             0,
             "#8e0152"
            ],
            [
             0.1,
             "#c51b7d"
            ],
            [
             0.2,
             "#de77ae"
            ],
            [
             0.3,
             "#f1b6da"
            ],
            [
             0.4,
             "#fde0ef"
            ],
            [
             0.5,
             "#f7f7f7"
            ],
            [
             0.6,
             "#e6f5d0"
            ],
            [
             0.7,
             "#b8e186"
            ],
            [
             0.8,
             "#7fbc41"
            ],
            [
             0.9,
             "#4d9221"
            ],
            [
             1,
             "#276419"
            ]
           ],
           "sequential": [
            [
             0,
             "#0d0887"
            ],
            [
             0.1111111111111111,
             "#46039f"
            ],
            [
             0.2222222222222222,
             "#7201a8"
            ],
            [
             0.3333333333333333,
             "#9c179e"
            ],
            [
             0.4444444444444444,
             "#bd3786"
            ],
            [
             0.5555555555555556,
             "#d8576b"
            ],
            [
             0.6666666666666666,
             "#ed7953"
            ],
            [
             0.7777777777777778,
             "#fb9f3a"
            ],
            [
             0.8888888888888888,
             "#fdca26"
            ],
            [
             1,
             "#f0f921"
            ]
           ],
           "sequentialminus": [
            [
             0,
             "#0d0887"
            ],
            [
             0.1111111111111111,
             "#46039f"
            ],
            [
             0.2222222222222222,
             "#7201a8"
            ],
            [
             0.3333333333333333,
             "#9c179e"
            ],
            [
             0.4444444444444444,
             "#bd3786"
            ],
            [
             0.5555555555555556,
             "#d8576b"
            ],
            [
             0.6666666666666666,
             "#ed7953"
            ],
            [
             0.7777777777777778,
             "#fb9f3a"
            ],
            [
             0.8888888888888888,
             "#fdca26"
            ],
            [
             1,
             "#f0f921"
            ]
           ]
          },
          "colorway": [
           "#636efa",
           "#EF553B",
           "#00cc96",
           "#ab63fa",
           "#FFA15A",
           "#19d3f3",
           "#FF6692",
           "#B6E880",
           "#FF97FF",
           "#FECB52"
          ],
          "font": {
           "color": "#2a3f5f"
          },
          "geo": {
           "bgcolor": "white",
           "lakecolor": "white",
           "landcolor": "#E5ECF6",
           "showlakes": true,
           "showland": true,
           "subunitcolor": "white"
          },
          "hoverlabel": {
           "align": "left"
          },
          "hovermode": "closest",
          "mapbox": {
           "style": "light"
          },
          "paper_bgcolor": "white",
          "plot_bgcolor": "#E5ECF6",
          "polar": {
           "angularaxis": {
            "gridcolor": "white",
            "linecolor": "white",
            "ticks": ""
           },
           "bgcolor": "#E5ECF6",
           "radialaxis": {
            "gridcolor": "white",
            "linecolor": "white",
            "ticks": ""
           }
          },
          "scene": {
           "xaxis": {
            "backgroundcolor": "#E5ECF6",
            "gridcolor": "white",
            "gridwidth": 2,
            "linecolor": "white",
            "showbackground": true,
            "ticks": "",
            "zerolinecolor": "white"
           },
           "yaxis": {
            "backgroundcolor": "#E5ECF6",
            "gridcolor": "white",
            "gridwidth": 2,
            "linecolor": "white",
            "showbackground": true,
            "ticks": "",
            "zerolinecolor": "white"
           },
           "zaxis": {
            "backgroundcolor": "#E5ECF6",
            "gridcolor": "white",
            "gridwidth": 2,
            "linecolor": "white",
            "showbackground": true,
            "ticks": "",
            "zerolinecolor": "white"
           }
          },
          "shapedefaults": {
           "line": {
            "color": "#2a3f5f"
           }
          },
          "ternary": {
           "aaxis": {
            "gridcolor": "white",
            "linecolor": "white",
            "ticks": ""
           },
           "baxis": {
            "gridcolor": "white",
            "linecolor": "white",
            "ticks": ""
           },
           "bgcolor": "#E5ECF6",
           "caxis": {
            "gridcolor": "white",
            "linecolor": "white",
            "ticks": ""
           }
          },
          "title": {
           "x": 0.05
          },
          "xaxis": {
           "automargin": true,
           "gridcolor": "white",
           "linecolor": "white",
           "ticks": "",
           "title": {
            "standoff": 15
           },
           "zerolinecolor": "white",
           "zerolinewidth": 2
          },
          "yaxis": {
           "automargin": true,
           "gridcolor": "white",
           "linecolor": "white",
           "ticks": "",
           "title": {
            "standoff": 15
           },
           "zerolinecolor": "white",
           "zerolinewidth": 2
          }
         }
        },
        "title": {
         "text": "Scatter Plot of SaRa Data"
        },
        "xaxis": {
         "anchor": "y",
         "domain": [
          0,
          1
         ],
         "title": {
          "text": "Rank"
         }
        },
        "yaxis": {
         "anchor": "x",
         "domain": [
          0,
          1
         ],
         "title": {
          "text": "Entropy"
         }
        }
       }
      }
     },
     "metadata": {},
     "output_type": "display_data"
    }
   ],
   "source": [
    "import plotly.express as px\n",
    "import pandas as pd\n",
    "\n",
    "\n",
    "df = pd.DataFrame(sara_list, columns=['Rank', 'Score','Entropy','Centre-bias','Depth','Index','Quartile'])\n",
    "\n",
    "fig = px.scatter(df, x='Rank', y='Entropy', size='Quartile', color='Index',\n",
    "                 title='Scatter Plot of SaRa Data',\n",
    "                 hover_name=df.index,\n",
    "                 labels={'Index': 'Index', 'Quartile': 'Quartile', 'Rank': 'Rank', 'Entropy': 'Entropy'})\n",
    "\n",
    "fig.show()\n"
   ]
  }
 ],
 "metadata": {
  "kernelspec": {
   "display_name": "Python 3.6.13 ('coco')",
   "language": "python",
   "name": "python3"
  },
  "language_info": {
   "codemirror_mode": {
    "name": "ipython",
    "version": 3
   },
   "file_extension": ".py",
   "mimetype": "text/x-python",
   "name": "python",
   "nbconvert_exporter": "python",
   "pygments_lexer": "ipython3",
   "version": "3.6.12"
  },
  "orig_nbformat": 4,
  "vscode": {
   "interpreter": {
    "hash": "8985379cc137063dd0de237b7b7b8346889aff6edaf8a0ed61b320fa88bc9a9f"
   }
  }
 },
 "nbformat": 4,
 "nbformat_minor": 2
}
