{
 "cells": [
  {
   "cell_type": "code",
   "execution_count": 1,
   "metadata": {},
   "outputs": [],
   "source": [
    "%matplotlib inline "
   ]
  },
  {
   "cell_type": "code",
   "execution_count": 2,
   "metadata": {},
   "outputs": [
    {
     "name": "stderr",
     "output_type": "stream",
     "text": [
      "c:\\Users\\User\\anaconda3\\envs\\summer_placement\\lib\\site-packages\\tensorflow\\python\\framework\\dtypes.py:493: FutureWarning: Passing (type, 1) or '1type' as a synonym of type is deprecated; in a future version of numpy, it will be understood as (type, (1,)) / '(1,)type'.\n",
      "  _np_qint8 = np.dtype([(\"qint8\", np.int8, 1)])\n",
      "c:\\Users\\User\\anaconda3\\envs\\summer_placement\\lib\\site-packages\\tensorflow\\python\\framework\\dtypes.py:494: FutureWarning: Passing (type, 1) or '1type' as a synonym of type is deprecated; in a future version of numpy, it will be understood as (type, (1,)) / '(1,)type'.\n",
      "  _np_quint8 = np.dtype([(\"quint8\", np.uint8, 1)])\n",
      "c:\\Users\\User\\anaconda3\\envs\\summer_placement\\lib\\site-packages\\tensorflow\\python\\framework\\dtypes.py:495: FutureWarning: Passing (type, 1) or '1type' as a synonym of type is deprecated; in a future version of numpy, it will be understood as (type, (1,)) / '(1,)type'.\n",
      "  _np_qint16 = np.dtype([(\"qint16\", np.int16, 1)])\n",
      "c:\\Users\\User\\anaconda3\\envs\\summer_placement\\lib\\site-packages\\tensorflow\\python\\framework\\dtypes.py:496: FutureWarning: Passing (type, 1) or '1type' as a synonym of type is deprecated; in a future version of numpy, it will be understood as (type, (1,)) / '(1,)type'.\n",
      "  _np_quint16 = np.dtype([(\"quint16\", np.uint16, 1)])\n",
      "c:\\Users\\User\\anaconda3\\envs\\summer_placement\\lib\\site-packages\\tensorflow\\python\\framework\\dtypes.py:497: FutureWarning: Passing (type, 1) or '1type' as a synonym of type is deprecated; in a future version of numpy, it will be understood as (type, (1,)) / '(1,)type'.\n",
      "  _np_qint32 = np.dtype([(\"qint32\", np.int32, 1)])\n",
      "c:\\Users\\User\\anaconda3\\envs\\summer_placement\\lib\\site-packages\\tensorflow\\python\\framework\\dtypes.py:502: FutureWarning: Passing (type, 1) or '1type' as a synonym of type is deprecated; in a future version of numpy, it will be understood as (type, (1,)) / '(1,)type'.\n",
      "  np_resource = np.dtype([(\"resource\", np.ubyte, 1)])\n",
      "Using TensorFlow backend.\n"
     ]
    }
   ],
   "source": [
    "import Mask_RCNN_toolchain as mrcnn"
   ]
  },
  {
   "cell_type": "code",
   "execution_count": 3,
   "metadata": {},
   "outputs": [
    {
     "name": "stdout",
     "output_type": "stream",
     "text": [
      "Processing 1 images\n",
      "image                    shape: (720, 1280, 3)        min:    0.00000  max:  255.00000  uint8\n",
      "molded_images            shape: (1, 1024, 1024, 3)    min: -123.70000  max:  151.10000  float64\n",
      "image_metas              shape: (1, 93)               min:    0.00000  max: 1280.00000  float64\n",
      "anchors                  shape: (1, 261888, 4)        min:   -0.35390  max:    1.29134  float32\n"
     ]
    },
    {
     "name": "stderr",
     "output_type": "stream",
     "text": [
      "c:\\Users\\User\\anaconda3\\envs\\summer_placement\\lib\\site-packages\\mrcnn\\visualize.py:169: UserWarning: Matplotlib is currently using agg, which is a non-GUI backend, so cannot show the figure.\n",
      "  plt.show()\n"
     ]
    }
   ],
   "source": [
    "image, results = mrcnn.get_mask_rcnn_object_detection(2)"
   ]
  },
  {
   "cell_type": "code",
   "execution_count": 4,
   "metadata": {},
   "outputs": [
    {
     "name": "stderr",
     "output_type": "stream",
     "text": [
      "c:\\Users\\User\\anaconda3\\envs\\summer_placement\\lib\\site-packages\\mrcnn\\visualize.py:57: UserWarning: Matplotlib is currently using agg, which is a non-GUI backend, so cannot show the figure.\n",
      "  plt.show()\n"
     ]
    }
   ],
   "source": [
    "masks, all_masks =mrcnn.get_mask_rcnn_masks(image, results)"
   ]
  },
  {
   "cell_type": "code",
   "execution_count": 5,
   "metadata": {},
   "outputs": [],
   "source": [
    "mrcnn.plot_sara_heatmap(image, mrcnn.SEG_DIM, 'Original')\n",
    "heatmap, sara_list = mrcnn.get_sara_ranking(image, mrcnn.SEG_DIM)"
   ]
  },
  {
   "cell_type": "code",
   "execution_count": 6,
   "metadata": {},
   "outputs": [],
   "source": [
    "mask_segments, mask_segments_min = mrcnn.get_mask_segments(image, sara_list, masks)"
   ]
  },
  {
   "cell_type": "code",
   "execution_count": 7,
   "metadata": {},
   "outputs": [],
   "source": [
    "# from SaRa_Visual_Tools import plotly as sara_plotly\n",
    "                                    \n",
    "# sara_plotly.create_visual_plot_dashboard(image, mrcnn.SEG_DIM, masks, mask_segments_min, heatmap)"
   ]
  },
  {
   "cell_type": "code",
   "execution_count": 9,
   "metadata": {},
   "outputs": [
    {
     "name": "stdout",
     "output_type": "stream",
     "text": [
      "Segment:  0 Mask:  0 IoU:  0.0\n",
      "Segment:  0 Mask:  1 IoU:  0.0\n",
      "Segment:  0 Mask:  2 IoU:  0.0\n",
      "Segment:  1 Mask:  0 IoU:  0.0\n",
      "Segment:  1 Mask:  1 IoU:  0.0\n",
      "Segment:  1 Mask:  2 IoU:  0.0\n",
      "Segment:  2 Mask:  0 IoU:  0.0\n",
      "Segment:  2 Mask:  1 IoU:  0.0\n",
      "Segment:  2 Mask:  2 IoU:  0.0\n",
      "Segment:  3 Mask:  0 IoU:  0.0\n",
      "Segment:  3 Mask:  1 IoU:  0.0\n",
      "Segment:  3 Mask:  2 IoU:  0.0\n",
      "Segment:  4 Mask:  0 IoU:  0.0\n",
      "Segment:  4 Mask:  1 IoU:  0.0\n",
      "Segment:  4 Mask:  2 IoU:  0.0\n",
      "Segment:  5 Mask:  0 IoU:  0.0\n",
      "Segment:  5 Mask:  1 IoU:  0.0\n",
      "Segment:  5 Mask:  2 IoU:  0.0\n",
      "Segment:  6 Mask:  0 IoU:  0.0\n",
      "Segment:  6 Mask:  1 IoU:  0.0\n",
      "Segment:  6 Mask:  2 IoU:  0.0\n",
      "Segment:  7 Mask:  0 IoU:  0.0\n",
      "Segment:  7 Mask:  1 IoU:  0.0\n",
      "Segment:  7 Mask:  2 IoU:  0.0\n",
      "Segment:  8 Mask:  0 IoU:  0.0\n",
      "Segment:  8 Mask:  1 IoU:  0.0\n",
      "Segment:  8 Mask:  2 IoU:  0.0\n",
      "Segment:  9 Mask:  0 IoU:  0.0\n",
      "Segment:  9 Mask:  1 IoU:  0.0\n",
      "Segment:  9 Mask:  2 IoU:  0.0\n",
      "Segment:  10 Mask:  0 IoU:  0.0\n",
      "Segment:  10 Mask:  1 IoU:  0.0\n",
      "Segment:  10 Mask:  2 IoU:  0.0\n",
      "Segment:  11 Mask:  0 IoU:  0.0\n",
      "Segment:  11 Mask:  1 IoU:  0.0\n",
      "Segment:  11 Mask:  2 IoU:  0.0\n",
      "Segment:  12 Mask:  0 IoU:  0.0\n",
      "Segment:  12 Mask:  1 IoU:  0.0\n",
      "Segment:  12 Mask:  2 IoU:  0.0\n",
      "Segment:  13 Mask:  0 IoU:  0.0\n",
      "Segment:  13 Mask:  1 IoU:  0.0\n",
      "Segment:  13 Mask:  2 IoU:  0.0\n",
      "Segment:  14 Mask:  0 IoU:  0.0\n",
      "Segment:  14 Mask:  1 IoU:  0.0\n",
      "Segment:  14 Mask:  2 IoU:  0.0\n",
      "Segment:  15 Mask:  0 IoU:  0.0\n",
      "Segment:  15 Mask:  1 IoU:  0.0\n",
      "Segment:  15 Mask:  2 IoU:  0.0\n",
      "Segment:  16 Mask:  0 IoU:  0.0\n",
      "Segment:  16 Mask:  1 IoU:  0.0\n",
      "Segment:  16 Mask:  2 IoU:  0.0\n",
      "Segment:  17 Mask:  0 IoU:  0.0\n",
      "Segment:  17 Mask:  1 IoU:  0.0\n",
      "Segment:  17 Mask:  2 IoU:  0.025069444444444443\n",
      "Segment:  18 Mask:  0 IoU:  0.0\n",
      "Segment:  18 Mask:  1 IoU:  0.0\n",
      "Segment:  18 Mask:  2 IoU:  0.18479166666666666\n",
      "Segment:  19 Mask:  0 IoU:  0.0\n",
      "Segment:  19 Mask:  1 IoU:  0.0\n",
      "Segment:  19 Mask:  2 IoU:  0.031180555555555555\n",
      "Segment:  20 Mask:  0 IoU:  0.0\n",
      "Segment:  20 Mask:  1 IoU:  0.0\n",
      "Segment:  20 Mask:  2 IoU:  0.0\n",
      "Segment:  21 Mask:  0 IoU:  0.0\n",
      "Segment:  21 Mask:  1 IoU:  0.0\n",
      "Segment:  21 Mask:  2 IoU:  0.0\n",
      "Segment:  22 Mask:  0 IoU:  0.0\n",
      "Segment:  22 Mask:  1 IoU:  0.0\n",
      "Segment:  22 Mask:  2 IoU:  0.0\n",
      "Segment:  23 Mask:  0 IoU:  0.0\n",
      "Segment:  23 Mask:  1 IoU:  0.0\n",
      "Segment:  23 Mask:  2 IoU:  0.0\n",
      "Segment:  24 Mask:  0 IoU:  0.0\n",
      "Segment:  24 Mask:  1 IoU:  0.0\n",
      "Segment:  24 Mask:  2 IoU:  0.0\n",
      "Segment:  25 Mask:  0 IoU:  0.0\n",
      "Segment:  25 Mask:  1 IoU:  0.0\n",
      "Segment:  25 Mask:  2 IoU:  0.11875\n",
      "Segment:  26 Mask:  0 IoU:  0.0\n",
      "Segment:  26 Mask:  1 IoU:  0.0\n",
      "Segment:  26 Mask:  2 IoU:  1.0\n",
      "Segment:  27 Mask:  0 IoU:  0.0\n",
      "Segment:  27 Mask:  1 IoU:  0.300625\n",
      "Segment:  27 Mask:  2 IoU:  0.24569444444444444\n",
      "Segment:  28 Mask:  0 IoU:  0.0\n",
      "Segment:  28 Mask:  1 IoU:  0.8465972222222222\n",
      "Segment:  28 Mask:  2 IoU:  0.0\n",
      "Segment:  29 Mask:  0 IoU:  0.0\n",
      "Segment:  29 Mask:  1 IoU:  0.0\n",
      "Segment:  29 Mask:  2 IoU:  0.0\n",
      "Segment:  30 Mask:  0 IoU:  0.0\n",
      "Segment:  30 Mask:  1 IoU:  0.0\n",
      "Segment:  30 Mask:  2 IoU:  0.0\n",
      "Segment:  31 Mask:  0 IoU:  0.0\n",
      "Segment:  31 Mask:  1 IoU:  0.0\n",
      "Segment:  31 Mask:  2 IoU:  0.0\n",
      "Segment:  32 Mask:  0 IoU:  0.0\n",
      "Segment:  32 Mask:  1 IoU:  0.0\n",
      "Segment:  32 Mask:  2 IoU:  0.0\n",
      "Segment:  33 Mask:  0 IoU:  0.0\n",
      "Segment:  33 Mask:  1 IoU:  0.0\n",
      "Segment:  33 Mask:  2 IoU:  0.11875\n",
      "Segment:  34 Mask:  0 IoU:  0.0\n",
      "Segment:  34 Mask:  1 IoU:  0.0\n",
      "Segment:  34 Mask:  2 IoU:  1.0\n",
      "Segment:  35 Mask:  0 IoU:  0.0\n",
      "Segment:  35 Mask:  1 IoU:  0.3125\n",
      "Segment:  35 Mask:  2 IoU:  0.24854166666666666\n",
      "Segment:  36 Mask:  0 IoU:  0.0\n",
      "Segment:  36 Mask:  1 IoU:  0.8625\n",
      "Segment:  36 Mask:  2 IoU:  0.0\n",
      "Segment:  37 Mask:  0 IoU:  0.0\n",
      "Segment:  37 Mask:  1 IoU:  0.0\n",
      "Segment:  37 Mask:  2 IoU:  0.0\n",
      "Segment:  38 Mask:  0 IoU:  0.0\n",
      "Segment:  38 Mask:  1 IoU:  0.0\n",
      "Segment:  38 Mask:  2 IoU:  0.0\n",
      "Segment:  39 Mask:  0 IoU:  0.0\n",
      "Segment:  39 Mask:  1 IoU:  0.0\n",
      "Segment:  39 Mask:  2 IoU:  0.0\n",
      "Segment:  40 Mask:  0 IoU:  0.0\n",
      "Segment:  40 Mask:  1 IoU:  0.0\n",
      "Segment:  40 Mask:  2 IoU:  0.0\n",
      "Segment:  41 Mask:  0 IoU:  0.0\n",
      "Segment:  41 Mask:  1 IoU:  0.0\n",
      "Segment:  41 Mask:  2 IoU:  0.10597222222222222\n",
      "Segment:  42 Mask:  0 IoU:  0.0\n",
      "Segment:  42 Mask:  1 IoU:  0.0\n",
      "Segment:  42 Mask:  2 IoU:  1.0\n",
      "Segment:  43 Mask:  0 IoU:  0.0\n",
      "Segment:  43 Mask:  1 IoU:  0.3125\n",
      "Segment:  43 Mask:  2 IoU:  0.24680555555555556\n",
      "Segment:  44 Mask:  0 IoU:  0.0\n",
      "Segment:  44 Mask:  1 IoU:  0.8605555555555555\n",
      "Segment:  44 Mask:  2 IoU:  0.0\n",
      "Segment:  45 Mask:  0 IoU:  0.11895833333333333\n",
      "Segment:  45 Mask:  1 IoU:  0.0\n",
      "Segment:  45 Mask:  2 IoU:  0.0\n",
      "Segment:  46 Mask:  0 IoU:  0.05479166666666667\n",
      "Segment:  46 Mask:  1 IoU:  0.0\n",
      "Segment:  46 Mask:  2 IoU:  0.0\n",
      "Segment:  47 Mask:  0 IoU:  0.0\n",
      "Segment:  47 Mask:  1 IoU:  0.0\n",
      "Segment:  47 Mask:  2 IoU:  0.0\n",
      "Segment:  48 Mask:  0 IoU:  0.0\n",
      "Segment:  48 Mask:  1 IoU:  0.0\n",
      "Segment:  48 Mask:  2 IoU:  0.0\n",
      "Segment:  49 Mask:  0 IoU:  0.0\n",
      "Segment:  49 Mask:  1 IoU:  0.0\n",
      "Segment:  49 Mask:  2 IoU:  0.08638888888888889\n",
      "Segment:  50 Mask:  0 IoU:  0.0\n",
      "Segment:  50 Mask:  1 IoU:  0.0\n",
      "Segment:  50 Mask:  2 IoU:  0.9439583333333333\n",
      "Segment:  51 Mask:  0 IoU:  0.0\n",
      "Segment:  51 Mask:  1 IoU:  0.2945138888888889\n",
      "Segment:  51 Mask:  2 IoU:  0.15444444444444444\n",
      "Segment:  52 Mask:  0 IoU:  0.0\n",
      "Segment:  52 Mask:  1 IoU:  0.5429166666666667\n",
      "Segment:  52 Mask:  2 IoU:  0.0\n",
      "Segment:  53 Mask:  0 IoU:  0.5585416666666667\n",
      "Segment:  53 Mask:  1 IoU:  0.0\n",
      "Segment:  53 Mask:  2 IoU:  0.0\n",
      "Segment:  54 Mask:  0 IoU:  0.8852083333333334\n",
      "Segment:  54 Mask:  1 IoU:  0.0\n",
      "Segment:  54 Mask:  2 IoU:  0.0\n",
      "Segment:  55 Mask:  0 IoU:  0.1882638888888889\n",
      "Segment:  55 Mask:  1 IoU:  0.0\n",
      "Segment:  55 Mask:  2 IoU:  0.0\n",
      "Segment:  56 Mask:  0 IoU:  0.0\n",
      "Segment:  56 Mask:  1 IoU:  0.0\n",
      "Segment:  56 Mask:  2 IoU:  0.0\n",
      "Segment:  57 Mask:  0 IoU:  0.0\n",
      "Segment:  57 Mask:  1 IoU:  0.0\n",
      "Segment:  57 Mask:  2 IoU:  0.018680555555555554\n",
      "Segment:  58 Mask:  0 IoU:  0.0\n",
      "Segment:  58 Mask:  1 IoU:  0.0\n",
      "Segment:  58 Mask:  2 IoU:  0.09861111111111111\n",
      "Segment:  59 Mask:  0 IoU:  0.0\n",
      "Segment:  59 Mask:  1 IoU:  0.0\n",
      "Segment:  59 Mask:  2 IoU:  0.0\n",
      "Segment:  60 Mask:  0 IoU:  0.0\n",
      "Segment:  60 Mask:  1 IoU:  0.0\n",
      "Segment:  60 Mask:  2 IoU:  0.0\n",
      "Segment:  61 Mask:  0 IoU:  0.023958333333333335\n",
      "Segment:  61 Mask:  1 IoU:  0.0\n",
      "Segment:  61 Mask:  2 IoU:  0.0\n",
      "Segment:  62 Mask:  0 IoU:  0.436875\n",
      "Segment:  62 Mask:  1 IoU:  0.0\n",
      "Segment:  62 Mask:  2 IoU:  0.0\n",
      "Segment:  63 Mask:  0 IoU:  0.16444444444444445\n",
      "Segment:  63 Mask:  1 IoU:  0.0\n",
      "Segment:  63 Mask:  2 IoU:  0.0\n"
     ]
    },
    {
     "ename": "SystemExit",
     "evalue": "",
     "output_type": "error",
     "traceback": [
      "An exception has occurred, use %tb to see the full traceback.\n",
      "\u001b[1;31mSystemExit\u001b[0m\n"
     ]
    }
   ],
   "source": [
    "from SaRa_Visual_Tools import pygame as sara_pygame\n",
    "\n",
    "mask_info, mask_segments_min2 = mrcnn.get_mask_segments_info(image, sara_list, masks)\n",
    "sara_pygame.create_interactive_plot(image, mask_segments_min2, heatmap)"
   ]
  }
 ],
 "metadata": {
  "kernelspec": {
   "display_name": "summer_placement",
   "language": "python",
   "name": "python3"
  },
  "language_info": {
   "codemirror_mode": {
    "name": "ipython",
    "version": 3
   },
   "file_extension": ".py",
   "mimetype": "text/x-python",
   "name": "python",
   "nbconvert_exporter": "python",
   "pygments_lexer": "ipython3",
   "version": "3.6.12"
  },
  "orig_nbformat": 4
 },
 "nbformat": 4,
 "nbformat_minor": 2
}
